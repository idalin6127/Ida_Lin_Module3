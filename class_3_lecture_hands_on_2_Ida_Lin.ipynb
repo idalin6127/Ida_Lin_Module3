{
 "cells": [
  {
   "cell_type": "code",
   "execution_count": 1,
   "id": "d79329cb",
   "metadata": {},
   "outputs": [
    {
     "name": "stdout",
     "output_type": "stream",
     "text": [
      "Collecting langdetect\n",
      "  Using cached langdetect-1.0.9.tar.gz (981 kB)\n",
      "  Preparing metadata (setup.py): started\n",
      "  Preparing metadata (setup.py): finished with status 'done'\n",
      "Requirement already satisfied: six in c:\\users\\idali\\anaconda3\\lib\\site-packages (from langdetect) (1.16.0)\n",
      "Building wheels for collected packages: langdetect\n",
      "  Building wheel for langdetect (setup.py): started\n",
      "  Building wheel for langdetect (setup.py): finished with status 'done'\n",
      "  Created wheel for langdetect: filename=langdetect-1.0.9-py3-none-any.whl size=993225 sha256=1b012c2a501873fae6d9c4941f7afbe732e1ec18e5fa7644b2135a1c8b1d3d92\n",
      "  Stored in directory: c:\\users\\idali\\appdata\\local\\pip\\cache\\wheels\\d1\\c1\\d9\\7e068de779d863bc8f8fc9467d85e25cfe47fa5051fff1a1bb\n",
      "Successfully built langdetect\n",
      "Installing collected packages: langdetect\n",
      "Successfully installed langdetect-1.0.9\n"
     ]
    },
    {
     "name": "stderr",
     "output_type": "stream",
     "text": [
      "  DEPRECATION: Building 'langdetect' using the legacy setup.py bdist_wheel mechanism, which will be removed in a future version. pip 25.3 will enforce this behaviour change. A possible replacement is to use the standardized build interface by setting the `--use-pep517` option, (possibly combined with `--no-build-isolation`), or adding a `pyproject.toml` file to the source tree of 'langdetect'. Discussion can be found at https://github.com/pypa/pip/issues/6334\n"
     ]
    }
   ],
   "source": [
    "! pip install langdetect"
   ]
  },
  {
   "cell_type": "code",
   "execution_count": 6,
   "id": "aeeeccde",
   "metadata": {},
   "outputs": [
    {
     "name": "stdout",
     "output_type": "stream",
     "text": [
      "['Hello world!', 'This is Ida!']\n",
      "Hello world!\n",
      "This is Ida!\n"
     ]
    }
   ],
   "source": [
    "from langdetect import detect\n",
    "from bs4 import BeautifulSoup\n",
    "\n",
    "texts = [\n",
    "    \"<p>Hello world!</p>\",\n",
    "    \"<p>This is Ida!</p>\",\n",
    "    \"<div>Bonjour le monde!</div>\",\n",
    "    \"Hola mundo\",\n",
    "    \"<span> 12345 </span>\"\n",
    "]\n",
    "\n",
    "def clean_html_and_filter_lang(texts, lang='en'):\n",
    "    filtered = []\n",
    "    for txt in texts:\n",
    "        txt = BeautifulSoup(txt, 'html.parser').get_text()\n",
    "        try:\n",
    "            if detect(txt.strip()) == lang:\n",
    "                filtered.append(txt.strip())\n",
    "        except:\n",
    "            continue\n",
    "    return filtered\n",
    "result = clean_html_and_filter_lang(texts, lang='en')\n",
    "print(result)\n",
    "for line in result:\n",
    "    print(line)"
   ]
  },
  {
   "cell_type": "code",
   "execution_count": 7,
   "id": "51241d37",
   "metadata": {},
   "outputs": [
    {
     "name": "stdout",
     "output_type": "stream",
     "text": [
      "Contact me at [EMAIL] or [PHONE]. My card is [CREDIT_CARD].\n"
     ]
    }
   ],
   "source": [
    "# Step 3: Strip PII using regex\n",
    "import re\n",
    "\n",
    "def strip_pii(text):\n",
    "    text = re.sub(r'[\\w\\.-]+@[\\w\\.-]+', '[EMAIL]', text)\n",
    "    text = re.sub(r'\\b\\d{12,19}\\b', '[CREDIT_CARD]', text)\n",
    "    text = re.sub(r'\\b(?:\\d{3}-){2}\\d{4}\\b', '[PHONE]', text)\n",
    "    return text\n",
    "\n",
    "sample = \"Contact me at john.doe@example.com or 123-456-7890. My card is 4111111111111111.\"\n",
    "print(strip_pii(sample))"
   ]
  },
  {
   "cell_type": "code",
   "execution_count": 10,
   "id": "bcb0916d",
   "metadata": {},
   "outputs": [
    {
     "name": "stdout",
     "output_type": "stream",
     "text": [
      "I love you very much.\n"
     ]
    }
   ],
   "source": [
    "# Step 4: Remove repetitive n-grams\n",
    "\n",
    "import re\n",
    "from collections import Counter\n",
    "\n",
    "text = \"I love you I love you I love you very much.\"\n",
    "\n",
    "def remove_repetitive_ngrams(text, n=3, threshold=3):\n",
    "    words = text.split()\n",
    "    ngrams = [' '.join(words[i:i+n]) for i in range(len(words)-n+1)]\n",
    "\n",
    "    counts = Counter(ngrams)\n",
    "    repetitive = [ngram for ngram, count in counts.items() if count >= threshold]\n",
    "\n",
    "    for phrase in repetitive:\n",
    "        # regex-safe version of the phrase\n",
    "        escaped_phrase = re.escape(phrase)\n",
    "        # match the phrase repeated 2+ times with optional whitespace\n",
    "        text = re.sub(rf'(?:{escaped_phrase}\\s*){{{threshold},}}', phrase + ' ', text)\n",
    "\n",
    "    # Remove extra spaces\n",
    "    text = re.sub(r'\\s{2,}', ' ', text).strip()\n",
    "    return text\n",
    "\n",
    "print(remove_repetitive_ngrams(text, n=3, threshold=3))"
   ]
  },
  {
   "cell_type": "code",
   "execution_count": 14,
   "id": "0545950d",
   "metadata": {},
   "outputs": [
    {
     "name": "stdout",
     "output_type": "stream",
     "text": [
      "0    Hello! Contact us at support@data.org or call ...\n",
      "1    Hola! Este artículo está completamente en espa...\n",
      "2    <html><body><div><h1>Breaking News</h1><p>This...\n",
      "3    Buy now! Best product ever. Best product ever....\n",
      "4    Python 3.14 introduces several improvements in...\n",
      "5    Python 3.14 introduces several improvements in...\n",
      "6    <div>For inquiries, email jane_doe@example.com...\n",
      "7    Large Language Models are transforming the AI ...\n",
      "8                  这是一个包含有用技术信息的中文段落。电话号码：010-12345678\n",
      "9    Buy now! Best product ever. Best product ever....\n",
      "Name: Raw Text, dtype: object\n"
     ]
    }
   ],
   "source": [
    "# Step 7: prepare for the text data\n",
    "import pandas as pd\n",
    "fake_texts = pd.read_csv(\"C:/AI_Coop/Slides/Module 3/Week3/test_data/data/Fake_Pretraining_Texts.csv\")\n",
    "raw_dataset = fake_texts[\"Raw Text\"]\n",
    "print(raw_dataset)"
   ]
  },
  {
   "cell_type": "code",
   "execution_count": 17,
   "id": "2cd4d1fb",
   "metadata": {},
   "outputs": [
    {
     "name": "stdout",
     "output_type": "stream",
     "text": [
      "Query for doc0: []\n",
      "Query for doc1: ['doc0']\n",
      "Query for doc2: []\n",
      "Query for doc3: []\n",
      "['The cat sat on the mat.', 'The cat is sitting on the mat.', 'A dog barked loudly at the cat.']\n"
     ]
    }
   ],
   "source": [
    "import string\n",
    "from datasketch import MinHash, MinHashLSH\n",
    "\n",
    "def normalize(text):\n",
    "    return text.lower().translate(str.maketrans('', '', string.punctuation))\n",
    "\n",
    "texts = [\n",
    "    \"The cat sat on the mat.\",\n",
    "    \"On the mat sat the cat.\",\n",
    "    \"The cat is sitting on the mat.\",\n",
    "    \"A dog barked loudly at the cat.\",\n",
    "]\n",
    "\n",
    "def minhash_deduplication(texts, threshold=0.98):\n",
    "    lsh = MinHashLSH(threshold=threshold, num_perm=128)\n",
    "    unique_texts = []\n",
    "    for i, doc in enumerate(texts):\n",
    "        m = MinHash(num_perm=128)\n",
    "        \n",
    "        for word in set(normalize(doc).split()):\n",
    "            m.update(word.encode('utf8'))\n",
    "         \n",
    "        query_result = lsh.query(m)\n",
    "        print(f\"Query for doc{i}: {query_result}\")\n",
    "            \n",
    "        if not query_result:\n",
    "            lsh.insert(f\"doc{i}\", m)\n",
    "            unique_texts.append(doc)\n",
    "\n",
    "    return unique_texts\n",
    "\n",
    "\n",
    "result = minhash_deduplication(texts, threshold=0.98)\n",
    "print(result)"
   ]
  },
  {
   "cell_type": "code",
   "execution_count": 18,
   "id": "a2247855",
   "metadata": {},
   "outputs": [
    {
     "data": {
      "text/plain": [
       "['Hello! Contact us at support@data.org or call 123-456-7890. Your credit card 4111111111111111 was declined. This message is intended only for the recipient. Visit our site for more.',\n",
       " 'Breaking NewsThis is a major event!Contact us',\n",
       " 'Buy now! Best product ever. Best product ever. Best product ever.',\n",
       " 'Python 3.14 introduces several improvements including better error messages. Learn more on the official site.',\n",
       " 'Python 3.14 introduces several improvements including better error messages. Learn more on the official docs.',\n",
       " 'Large Language Models are transforming the AI landscape with few-shot capabilities.',\n",
       " 'Buy now! Best product ever. Best product ever. Best product ever.']"
      ]
     },
     "metadata": {},
     "output_type": "display_data"
    }
   ],
   "source": [
    "# Step 1: Remove HTML + Language Filter\n",
    "step1 = clean_html_and_filter_lang(raw_dataset)\n",
    "display(step1)"
   ]
  },
  {
   "cell_type": "code",
   "execution_count": 19,
   "id": "0355a3f7",
   "metadata": {},
   "outputs": [
    {
     "name": "stdout",
     "output_type": "stream",
     "text": [
      "Query for doc0: []\n",
      "Query for doc1: []\n",
      "Query for doc2: []\n",
      "Query for doc3: []\n",
      "Query for doc4: []\n",
      "Query for doc5: []\n",
      "Query for doc6: ['doc2']\n"
     ]
    },
    {
     "data": {
      "text/plain": [
       "['Hello! Contact us at support@data.org or call 123-456-7890. Your credit card 4111111111111111 was declined. This message is intended only for the recipient. Visit our site for more.',\n",
       " 'Breaking NewsThis is a major event!Contact us',\n",
       " 'Buy now! Best product ever. Best product ever. Best product ever.',\n",
       " 'Python 3.14 introduces several improvements including better error messages. Learn more on the official site.',\n",
       " 'Python 3.14 introduces several improvements including better error messages. Learn more on the official docs.',\n",
       " 'Large Language Models are transforming the AI landscape with few-shot capabilities.']"
      ]
     },
     "metadata": {},
     "output_type": "display_data"
    }
   ],
   "source": [
    "# Step 2: Deduplicate Paragraphs\n",
    "step2 = minhash_deduplication(step1)\n",
    "display(step2)\n"
   ]
  },
  {
   "cell_type": "code",
   "execution_count": 20,
   "id": "7ef8c5b6",
   "metadata": {},
   "outputs": [
    {
     "data": {
      "text/plain": [
       "['Hello! Contact us at [EMAIL] or call [PHONE]. Your credit card [CREDIT_CARD] was declined. This message is intended only for the recipient. Visit our site for more.',\n",
       " 'Breaking NewsThis is a major event!Contact us',\n",
       " 'Buy now! Best product ever. Best product ever. Best product ever.',\n",
       " 'Python 3.14 introduces several improvements including better error messages. Learn more on the official site.',\n",
       " 'Python 3.14 introduces several improvements including better error messages. Learn more on the official docs.',\n",
       " 'Large Language Models are transforming the AI landscape with few-shot capabilities.']"
      ]
     },
     "metadata": {},
     "output_type": "display_data"
    }
   ],
   "source": [
    "# Step 3: Strip PII\n",
    "step3 = [strip_pii(t) for t in step2]\n",
    "display(step3)"
   ]
  },
  {
   "cell_type": "code",
   "execution_count": 21,
   "id": "f4af5f9b",
   "metadata": {
    "scrolled": true
   },
   "outputs": [
    {
     "data": {
      "text/plain": [
       "['Hello! Contact us at [EMAIL] or call [PHONE]. Your credit card [CREDIT_CARD] was declined. This message is intended only for the recipient. Visit our site for more.',\n",
       " 'Breaking NewsThis is a major event!Contact us',\n",
       " 'Buy now! Best product ever.',\n",
       " 'Python 3.14 introduces several improvements including better error messages. Learn more on the official site.',\n",
       " 'Python 3.14 introduces several improvements including better error messages. Learn more on the official docs.',\n",
       " 'Large Language Models are transforming the AI landscape with few-shot capabilities.']"
      ]
     },
     "metadata": {},
     "output_type": "display_data"
    }
   ],
   "source": [
    "# Step 4: Remove Repetitive N-grams\n",
    "cleaned_data = [remove_repetitive_ngrams(t) for t in step3]\n",
    "display(cleaned_data)"
   ]
  },
  {
   "cell_type": "code",
   "execution_count": 22,
   "id": "34428d09",
   "metadata": {},
   "outputs": [
    {
     "name": "stdout",
     "output_type": "stream",
     "text": [
      "✅ Cleaned dataset sample:\n",
      "--- Article 1 ---\n",
      "Hello! Contact us at [EMAIL] or call [PHONE]. Your credit card [CREDIT_CARD] was declined. This message is intended only for the recipient. Visit our site for more.\n",
      "--- Article 2 ---\n",
      "Breaking NewsThis is a major event!Contact us\n",
      "--- Article 3 ---\n",
      "Buy now! Best product ever.\n",
      "--- Article 4 ---\n",
      "Python 3.14 introduces several improvements including better error messages. Learn more on the official site.\n",
      "--- Article 5 ---\n",
      "Python 3.14 introduces several improvements including better error messages. Learn more on the official docs.\n",
      "--- Article 6 ---\n",
      "Large Language Models are transforming the AI landscape with few-shot capabilities.\n"
     ]
    }
   ],
   "source": [
    "# Done!\n",
    "print(\"✅ Cleaned dataset sample:\")\n",
    "for idx, text in enumerate(cleaned_data):\n",
    "    print(f\"--- Article {idx + 1} ---\")\n",
    "    print(text)"
   ]
  },
  {
   "cell_type": "code",
   "execution_count": null,
   "id": "b28e3338",
   "metadata": {},
   "outputs": [],
   "source": []
  }
 ],
 "metadata": {
  "kernelspec": {
   "display_name": "Python 3 (ipykernel)",
   "language": "python",
   "name": "python3"
  },
  "language_info": {
   "codemirror_mode": {
    "name": "ipython",
    "version": 3
   },
   "file_extension": ".py",
   "mimetype": "text/x-python",
   "name": "python",
   "nbconvert_exporter": "python",
   "pygments_lexer": "ipython3",
   "version": "3.9.13"
  }
 },
 "nbformat": 4,
 "nbformat_minor": 5
}
